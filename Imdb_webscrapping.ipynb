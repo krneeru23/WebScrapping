{
 "cells": [
  {
   "cell_type": "code",
   "execution_count": 1,
   "id": "4c667ad8",
   "metadata": {},
   "outputs": [],
   "source": [
    "# import essential library\n",
    "import pandas as pd\n",
    "from bs4 import BeautifulSoup\n",
    "import requests"
   ]
  },
  {
   "cell_type": "code",
   "execution_count": 86,
   "id": "bbd3c306",
   "metadata": {},
   "outputs": [],
   "source": [
    "# top 250 movies of imdb link\n",
    "url='https://www.imdb.com/chart/top/'"
   ]
  },
  {
   "cell_type": "code",
   "execution_count": 106,
   "id": "ab77403c",
   "metadata": {},
   "outputs": [],
   "source": [
    "# create the dataframe\n",
    "df=pd.DataFrame(columns=['Name','Release_year','Ratings'])"
   ]
  },
  {
   "cell_type": "code",
   "execution_count": 87,
   "id": "2bd47b32",
   "metadata": {},
   "outputs": [],
   "source": [
    "source=requests.get(url)"
   ]
  },
  {
   "cell_type": "code",
   "execution_count": 88,
   "id": "414e9da6",
   "metadata": {},
   "outputs": [],
   "source": [
    "soup=BeautifulSoup(source.text,'html.parser')"
   ]
  },
  {
   "cell_type": "code",
   "execution_count": 167,
   "id": "7a41575a",
   "metadata": {},
   "outputs": [],
   "source": [
    "movies=soup.find('tbody',class_='lister-list').find_all('tr')"
   ]
  },
  {
   "cell_type": "code",
   "execution_count": 168,
   "id": "136b101e",
   "metadata": {},
   "outputs": [],
   "source": [
    "\n",
    "for movies in movies:\n",
    "    \n",
    "    #top 250 movies \n",
    "    name=movies.find('td',class_='titleColumn').a.text\n",
    "    \n",
    "    \n",
    "    R_yr=movies.find('span',class_='secondaryInfo').text\n",
    "    \n",
    "    Rat=movies.find('td',class_='ratingColumn imdbRating').text\n",
    "    df=df.append({'Name':name,'Release_year':R_yr,'Ratings':Ratings},ignore_index=True)\n"
   ]
  },
  {
   "cell_type": "code",
   "execution_count": 169,
   "id": "de134c56",
   "metadata": {},
   "outputs": [
    {
     "data": {
      "text/plain": [
       "(500, 3)"
      ]
     },
     "execution_count": 169,
     "metadata": {},
     "output_type": "execute_result"
    }
   ],
   "source": [
    "df.shape"
   ]
  },
  {
   "cell_type": "code",
   "execution_count": 170,
   "id": "5e6b9533",
   "metadata": {},
   "outputs": [],
   "source": [
    "df.to_csv('D:Imdb_data.csv')"
   ]
  },
  {
   "cell_type": "code",
   "execution_count": 171,
   "id": "e202bbc7",
   "metadata": {},
   "outputs": [],
   "source": [
    "df1=pd.read_csv('D:Imdb_data.csv')"
   ]
  },
  {
   "cell_type": "code",
   "execution_count": 173,
   "id": "78f06c7d",
   "metadata": {},
   "outputs": [],
   "source": [
    "df1.drop('Unnamed: 0',axis=1,inplace=True)"
   ]
  },
  {
   "cell_type": "code",
   "execution_count": 174,
   "id": "025169f6",
   "metadata": {},
   "outputs": [
    {
     "data": {
      "text/html": [
       "<div>\n",
       "<style scoped>\n",
       "    .dataframe tbody tr th:only-of-type {\n",
       "        vertical-align: middle;\n",
       "    }\n",
       "\n",
       "    .dataframe tbody tr th {\n",
       "        vertical-align: top;\n",
       "    }\n",
       "\n",
       "    .dataframe thead th {\n",
       "        text-align: right;\n",
       "    }\n",
       "</style>\n",
       "<table border=\"1\" class=\"dataframe\">\n",
       "  <thead>\n",
       "    <tr style=\"text-align: right;\">\n",
       "      <th></th>\n",
       "      <th>Name</th>\n",
       "      <th>Release_year</th>\n",
       "      <th>Ratings</th>\n",
       "    </tr>\n",
       "  </thead>\n",
       "  <tbody>\n",
       "    <tr>\n",
       "      <th>0</th>\n",
       "      <td>The Shawshank Redemption</td>\n",
       "      <td>(1994)</td>\n",
       "      <td>9.2</td>\n",
       "    </tr>\n",
       "    <tr>\n",
       "      <th>1</th>\n",
       "      <td>The Godfather</td>\n",
       "      <td>(1972)</td>\n",
       "      <td>9.2</td>\n",
       "    </tr>\n",
       "    <tr>\n",
       "      <th>2</th>\n",
       "      <td>The Dark Knight</td>\n",
       "      <td>(2008)</td>\n",
       "      <td>9.0</td>\n",
       "    </tr>\n",
       "    <tr>\n",
       "      <th>3</th>\n",
       "      <td>The Godfather Part II</td>\n",
       "      <td>(1974)</td>\n",
       "      <td>9.0</td>\n",
       "    </tr>\n",
       "    <tr>\n",
       "      <th>4</th>\n",
       "      <td>12 Angry Men</td>\n",
       "      <td>(1957)</td>\n",
       "      <td>8.9</td>\n",
       "    </tr>\n",
       "  </tbody>\n",
       "</table>\n",
       "</div>"
      ],
      "text/plain": [
       "                       Name Release_year  Ratings\n",
       "0  The Shawshank Redemption       (1994)      9.2\n",
       "1             The Godfather       (1972)      9.2\n",
       "2           The Dark Knight       (2008)      9.0\n",
       "3     The Godfather Part II       (1974)      9.0\n",
       "4              12 Angry Men       (1957)      8.9"
      ]
     },
     "execution_count": 174,
     "metadata": {},
     "output_type": "execute_result"
    }
   ],
   "source": [
    "df1.head()"
   ]
  },
  {
   "cell_type": "code",
   "execution_count": 176,
   "id": "5b6582e7",
   "metadata": {},
   "outputs": [],
   "source": [
    "# export the dataframe to csv file\n",
    "df1.to_csv('D:imdb_data.csv',index=False)"
   ]
  },
  {
   "cell_type": "code",
   "execution_count": null,
   "id": "70745e1b",
   "metadata": {},
   "outputs": [],
   "source": []
  }
 ],
 "metadata": {
  "kernelspec": {
   "display_name": "Python 3",
   "language": "python",
   "name": "python3"
  },
  "language_info": {
   "codemirror_mode": {
    "name": "ipython",
    "version": 3
   },
   "file_extension": ".py",
   "mimetype": "text/x-python",
   "name": "python",
   "nbconvert_exporter": "python",
   "pygments_lexer": "ipython3",
   "version": "3.8.8"
  }
 },
 "nbformat": 4,
 "nbformat_minor": 5
}
